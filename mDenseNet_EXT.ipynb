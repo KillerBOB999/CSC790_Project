{
 "cells": [
  {
   "cell_type": "code",
   "execution_count": 1,
   "metadata": {},
   "outputs": [],
   "source": [
    "from keras.layers import Dense, Dropout, Activation, Flatten, Convolution2D, MaxPooling2D, BatchNormalization\n",
    "from keras.preprocessing.image import ImageDataGenerator\n",
    "from tensorflow.keras import layers\n",
    "from keras.models import Sequential\n",
    "from typing import Tuple, List\n",
    "import tensorflow as tf\n",
    "from tensorflow.random import set_seed\n",
    "from tqdm import tqdm\n",
    "import pandas as pd\n",
    "import numpy as np\n",
    "import sklearn\n",
    "import keras\n",
    "import os"
   ]
  },
  {
   "cell_type": "code",
   "execution_count": 2,
   "metadata": {},
   "outputs": [],
   "source": [
    "#Seeding random state to 13 always, for reproducibility\n",
    "np.random.seed(13)\n",
    "set_seed(13)"
   ]
  },
  {
   "cell_type": "code",
   "execution_count": 3,
   "metadata": {},
   "outputs": [],
   "source": [
    "#Helper Function: Return the paths to all jpg files found within a directory\n",
    "def getImageDirs(root: str = \"data\"):\n",
    "    imageDirs = []\n",
    "    for subDirectory, directory, files in os.walk(root):\n",
    "        for file in files:\n",
    "            if file[-4:] == \".jpg\":\n",
    "                path = os.path.join(subDirectory, file)         \n",
    "                imageDirs.append(path)\n",
    "    return(imageDirs)"
   ]
  },
  {
   "cell_type": "code",
   "execution_count": 4,
   "metadata": {},
   "outputs": [],
   "source": [
    "#Helper Function: Return the class weights given a list of classes\n",
    "def getClassWeightsFromLabels(labels: List[int]):# -> Dict[int]:\n",
    "    weights = sklearn.utils.class_weight.compute_class_weight(class_weight=\"balanced\", classes=np.unique(labels), y=labels)\n",
    "    return {0: weights[0], 1: weights[1]}"
   ]
  },
  {
   "cell_type": "code",
   "execution_count": 5,
   "metadata": {},
   "outputs": [],
   "source": [
    "#Helper Function: Return the img paths and classes in seperate lists given a txt file from the LABELS folder\n",
    "def getDirsAndClasses(root: str, file: str) -> Tuple[List[str], List[int]]:\n",
    "    imageDirs = []\n",
    "    classes = []\n",
    "    line = \"\"\n",
    "    with open(root + file, \"r\") as f:\n",
    "        for line in tqdm(f):\n",
    "            imageDir, clazz = line.split()\n",
    "            imageDirs.append(imageDir)\n",
    "            classes.append(int(clazz))\n",
    "    return imageDirs, classes"
   ]
  },
  {
   "cell_type": "code",
   "execution_count": 6,
   "metadata": {},
   "outputs": [],
   "source": [
    "#Helper Function: Create a Keras prebuilt model\n",
    "def makeDenseBlock(groupCount: int, inputs):\n",
    "    blockConcats = []\n",
    "    x = layers.BatchNormalization()(inputs)\n",
    "    x = layers.Conv2D(filters=16, kernel_size=(1, 1), activation=\"relu\", padding=\"same\")(x)\n",
    "    x = layers.Conv2D(filters=16, kernel_size=(3, 3), activation=\"relu\", padding=\"same\")(x)\n",
    "    blockConcats.append(x)\n",
    "    for count in range(groupCount):\n",
    "        x = layers.Concatenate()(blockConcats) if len(blockConcats) > 1 else x\n",
    "        x = layers.BatchNormalization()(x)\n",
    "        x = layers.Conv2D(filters=16, kernel_size=(1, 1), activation=\"relu\", padding=\"same\")(x)\n",
    "        x = layers.Conv2D(filters=16, kernel_size=(3, 3), activation=\"relu\", padding=\"same\")(x)\n",
    "        blockConcats.append(x)\n",
    "    x = layers.BatchNormalization()(x)\n",
    "    x = layers.Conv2D(filters=16, kernel_size=(1, 1), activation=\"relu\", padding=\"same\")(x)\n",
    "    x = layers.AveragePooling2D(pool_size=(2, 2), strides=(2, 2))(x)\n",
    "    return x\n",
    "def makeModel(inputShape: Tuple[int]) -> keras.Model:\n",
    "    inputs = keras.Input(shape=inputShape, name=\"Input\")\n",
    "    x = layers.Conv2D(filters=16, kernel_size=(7, 7), strides=(5, 5), activation=\"relu\")(inputs)\n",
    "    x = layers.MaxPooling2D(pool_size=(3, 3), strides=(2, 2))(x)\n",
    "    \n",
    "    x = makeDenseBlock(groupCount=2, inputs=x)\n",
    "    \n",
    "    x = layers.GlobalAveragePooling2D()(x)\n",
    "    outputs = layers.Dense(units=1, activation=\"sigmoid\")(x)\n",
    "\n",
    "    return keras.Model(inputs=inputs, outputs=outputs)"
   ]
  },
  {
   "cell_type": "code",
   "execution_count": 7,
   "metadata": {},
   "outputs": [
    {
     "ename": "FileNotFoundError",
     "evalue": "[Errno 2] No such file or directory: 'C:\\\\Users\\\\music\\\\OneDrive - Missouri State University\\\\2020 Fall\\\\CSC790-001\\\\Project\\\\Codes2\\\\Data\\\\CNR-EXT-150x150\\\\LABELS\\\\train.txt'",
     "output_type": "error",
     "traceback": [
      "\u001b[1;31m---------------------------------------------------------------------------\u001b[0m",
      "\u001b[1;31mFileNotFoundError\u001b[0m                         Traceback (most recent call last)",
      "\u001b[1;32m<ipython-input-7-8ee77087f48c>\u001b[0m in \u001b[0;36m<module>\u001b[1;34m\u001b[0m\n\u001b[0;32m      1\u001b[0m \u001b[1;31m#Get the Train Dataset using split from the LABELS folder\u001b[0m\u001b[1;33m\u001b[0m\u001b[1;33m\u001b[0m\u001b[1;33m\u001b[0m\u001b[0m\n\u001b[0;32m      2\u001b[0m \u001b[0mroot\u001b[0m \u001b[1;33m=\u001b[0m \u001b[0mos\u001b[0m\u001b[1;33m.\u001b[0m\u001b[0mgetcwd\u001b[0m\u001b[1;33m(\u001b[0m\u001b[1;33m)\u001b[0m \u001b[1;33m+\u001b[0m \u001b[1;34m\"\\\\Data\\\\CNR-EXT-150x150\"\u001b[0m\u001b[1;33m\u001b[0m\u001b[1;33m\u001b[0m\u001b[0m\n\u001b[1;32m----> 3\u001b[1;33m \u001b[0mimageDirs\u001b[0m\u001b[1;33m,\u001b[0m \u001b[0mclasses\u001b[0m \u001b[1;33m=\u001b[0m \u001b[0mgetDirsAndClasses\u001b[0m\u001b[1;33m(\u001b[0m\u001b[0mroot\u001b[0m\u001b[1;33m,\u001b[0m \u001b[1;34m\"\\\\LABELS\\\\train.txt\"\u001b[0m\u001b[1;33m)\u001b[0m\u001b[1;33m\u001b[0m\u001b[1;33m\u001b[0m\u001b[0m\n\u001b[0m\u001b[0;32m      4\u001b[0m \u001b[0mroot\u001b[0m \u001b[1;33m=\u001b[0m \u001b[0mroot\u001b[0m \u001b[1;33m+\u001b[0m \u001b[1;34m\"\\\\PATCHES\\\\\"\u001b[0m\u001b[1;33m\u001b[0m\u001b[1;33m\u001b[0m\u001b[0m\n\u001b[0;32m      5\u001b[0m train = pd.DataFrame([\n",
      "\u001b[1;32m<ipython-input-5-ea6b926f2538>\u001b[0m in \u001b[0;36mgetDirsAndClasses\u001b[1;34m(root, file)\u001b[0m\n\u001b[0;32m      4\u001b[0m     \u001b[0mclasses\u001b[0m \u001b[1;33m=\u001b[0m \u001b[1;33m[\u001b[0m\u001b[1;33m]\u001b[0m\u001b[1;33m\u001b[0m\u001b[1;33m\u001b[0m\u001b[0m\n\u001b[0;32m      5\u001b[0m     \u001b[0mline\u001b[0m \u001b[1;33m=\u001b[0m \u001b[1;34m\"\"\u001b[0m\u001b[1;33m\u001b[0m\u001b[1;33m\u001b[0m\u001b[0m\n\u001b[1;32m----> 6\u001b[1;33m     \u001b[1;32mwith\u001b[0m \u001b[0mopen\u001b[0m\u001b[1;33m(\u001b[0m\u001b[0mroot\u001b[0m \u001b[1;33m+\u001b[0m \u001b[0mfile\u001b[0m\u001b[1;33m,\u001b[0m \u001b[1;34m\"r\"\u001b[0m\u001b[1;33m)\u001b[0m \u001b[1;32mas\u001b[0m \u001b[0mf\u001b[0m\u001b[1;33m:\u001b[0m\u001b[1;33m\u001b[0m\u001b[1;33m\u001b[0m\u001b[0m\n\u001b[0m\u001b[0;32m      7\u001b[0m         \u001b[1;32mfor\u001b[0m \u001b[0mline\u001b[0m \u001b[1;32min\u001b[0m \u001b[0mtqdm\u001b[0m\u001b[1;33m(\u001b[0m\u001b[0mf\u001b[0m\u001b[1;33m)\u001b[0m\u001b[1;33m:\u001b[0m\u001b[1;33m\u001b[0m\u001b[1;33m\u001b[0m\u001b[0m\n\u001b[0;32m      8\u001b[0m             \u001b[0mimageDir\u001b[0m\u001b[1;33m,\u001b[0m \u001b[0mclazz\u001b[0m \u001b[1;33m=\u001b[0m \u001b[0mline\u001b[0m\u001b[1;33m.\u001b[0m\u001b[0msplit\u001b[0m\u001b[1;33m(\u001b[0m\u001b[1;33m)\u001b[0m\u001b[1;33m\u001b[0m\u001b[1;33m\u001b[0m\u001b[0m\n",
      "\u001b[1;31mFileNotFoundError\u001b[0m: [Errno 2] No such file or directory: 'C:\\\\Users\\\\music\\\\OneDrive - Missouri State University\\\\2020 Fall\\\\CSC790-001\\\\Project\\\\Codes2\\\\Data\\\\CNR-EXT-150x150\\\\LABELS\\\\train.txt'"
     ]
    }
   ],
   "source": [
    "#Get the Train Dataset using split from the LABELS folder\n",
    "root = os.getcwd() + \"\\\\Data\\\\CNR-EXT-150x150\"\n",
    "imageDirs, classes = getDirsAndClasses(root, \"\\\\LABELS\\\\train.txt\")\n",
    "root = root + \"\\\\PATCHES\\\\\"\n",
    "train = pd.DataFrame([\n",
    "            {\n",
    "                \"image\": root + filename,\n",
    "                \"class\": \"free\" if clazz == 0 else \"busy\"\n",
    "            }\n",
    "            for filename, clazz in tqdm(zip(imageDirs, classes))\n",
    "    ])\n",
    "#Now Get Test\n",
    "root = os.getcwd() + \"\\\\Data\\\\CNR-EXT-150x150\"\n",
    "imageDirs, classes = getDirsAndClasses(root, \"\\\\LABELS\\\\test.txt\")\n",
    "root = root + \"\\\\PATCHES\\\\\"\n",
    "test = pd.DataFrame([\n",
    "            {\n",
    "                \"image\": root + filename,\n",
    "                \"class\": \"free\" if clazz == 0 else \"busy\"\n",
    "            }\n",
    "            for filename, clazz in tqdm(zip(imageDirs, classes))\n",
    "    ])"
   ]
  },
  {
   "cell_type": "code",
   "execution_count": null,
   "metadata": {},
   "outputs": [],
   "source": [
    "#Declare data generators and preprocessing\n",
    "train_datagen = ImageDataGenerator(\n",
    "    #Augment data with random flips, normalize each sample's input\n",
    "    vertical_flip = True,\n",
    "    horizontal_flip = True,\n",
    "    rescale = 1.0 / 255.0,\n",
    "    samplewise_std_normalization = True\n",
    ")\n",
    "train_generator = train_datagen.flow_from_dataframe(\n",
    "    directory = None, #none since the df has absolute paths\n",
    "    dataframe = train,\n",
    "    x_col = \"image\",\n",
    "    y_col = \"class\",\n",
    "    validate_filenames = False, #faster for huge datasets\n",
    "    target_size = (150, 150),\n",
    "    color_mode = \"rgb\",\n",
    "    batch_size = 128,\n",
    "    class_mode = \"binary\",\n",
    "    shuffle = True\n",
    ")\n",
    "\n",
    "test_datagen = ImageDataGenerator(\n",
    "    samplewise_std_normalization = True\n",
    ")\n",
    "test_generator = train_datagen.flow_from_dataframe(\n",
    "    directory = None,\n",
    "    dataframe = test,\n",
    "    x_col = \"image\",\n",
    "    y_col = \"class\",\n",
    "    validate_filenames = False,\n",
    "    target_size = (150, 150),\n",
    "    color_mode = \"rgb\",\n",
    "    batch_size = 128,\n",
    "    class_mode = \"binary\",\n",
    "    shuffle = True\n",
    ")"
   ]
  },
  {
   "cell_type": "code",
   "execution_count": null,
   "metadata": {},
   "outputs": [],
   "source": [
    "#Declare Callbacks: stop training if accuracy doesn't rise 1% within 3 epochs\n",
    "callbacks = [\n",
    "    keras.callbacks.EarlyStopping(\n",
    "        monitor = \"accuracy\",\n",
    "        min_delta = 0.01,\n",
    "        patience = 3,\n",
    "        verbose = 1\n",
    "    )\n",
    "]"
   ]
  },
  {
   "cell_type": "code",
   "execution_count": null,
   "metadata": {},
   "outputs": [],
   "source": [
    "#Extract Class Weights\n",
    "classes = list(train[\"class\"])\n",
    "weights_dict = getClassWeightsFromLabels(classes)\n",
    "print(weights_dict)"
   ]
  },
  {
   "cell_type": "code",
   "execution_count": null,
   "metadata": {},
   "outputs": [],
   "source": [
    "#Build Model\n",
    "Model = makeModel((150, 150, 3))\n",
    "opt = tf.optimizers.Adam()\n",
    "Model.compile(\n",
    "    optimizer = opt,\n",
    "    loss = keras.losses.BinaryCrossentropy(from_logits = True),\n",
    "    metrics = [\"accuracy\"]\n",
    ")"
   ]
  },
  {
   "cell_type": "code",
   "execution_count": null,
   "metadata": {},
   "outputs": [],
   "source": [
    "#Fit data\n",
    "Model.fit(train_generator, callbacks = callbacks, epochs = 100, class_weight = weights_dict)"
   ]
  },
  {
   "cell_type": "code",
   "execution_count": null,
   "metadata": {},
   "outputs": [],
   "source": [
    "#Test accuracy\n",
    "Model.evaluate(test_generator)"
   ]
  },
  {
   "cell_type": "code",
   "execution_count": null,
   "metadata": {},
   "outputs": [],
   "source": [
    "#Save the model\n",
    "Model.save(\"Models/mDenseNet\")"
   ]
  }
 ],
 "metadata": {
  "kernelspec": {
   "display_name": "csc790",
   "language": "python",
   "name": "csc790"
  },
  "language_info": {
   "codemirror_mode": {
    "name": "ipython",
    "version": 3
   },
   "file_extension": ".py",
   "mimetype": "text/x-python",
   "name": "python",
   "nbconvert_exporter": "python",
   "pygments_lexer": "ipython3",
   "version": "3.8.5"
  }
 },
 "nbformat": 4,
 "nbformat_minor": 4
}
