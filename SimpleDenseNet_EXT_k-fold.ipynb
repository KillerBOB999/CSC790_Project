{
 "cells": [
  {
   "cell_type": "code",
   "execution_count": 1,
   "metadata": {},
   "outputs": [],
   "source": [
    "import numpy as np\n",
    "import pandas as pd\n",
    "\n",
    "import tensorflow as tf\n",
    "from tensorflow import keras\n",
    "from tensorflow.random import set_seed\n",
    "\n",
    "from tqdm import tqdm\n",
    "from contextlib import redirect_stdout\n",
    "import os\n",
    "\n",
    "import utils"
   ]
  },
  {
   "cell_type": "code",
   "execution_count": 2,
   "metadata": {},
   "outputs": [],
   "source": [
    "# Define a model name for repeated use\n",
    "modelName = \"SimpleDenseNet\"\n",
    "n_folds = 10 # 1 = normal experiment\n",
    "batch_size = 128 # 128 is default across the models"
   ]
  },
  {
   "cell_type": "code",
   "execution_count": 3,
   "metadata": {},
   "outputs": [],
   "source": [
    "#Seeding random state to 13 always, for reproducibility\n",
    "np.random.seed(utils.seed)\n",
    "set_seed(utils.seed)"
   ]
  },
  {
   "cell_type": "code",
   "execution_count": 4,
   "metadata": {},
   "outputs": [
    {
     "name": "stdout",
     "output_type": "stream",
     "text": [
      "gpus: [PhysicalDevice(name='/physical_device:GPU:0', device_type='GPU')]\n",
      "1 Physical GPU, 1 Logical GPUs\n"
     ]
    }
   ],
   "source": [
    "### Used to select GPU 0=first device, 1=second device, etc...\n",
    "os.environ[\"CUDA_VISIBLE_DEVICES\"]=\"0\"\n",
    "\n",
    "gpus = tf.config.experimental.list_physical_devices('GPU')\n",
    "print('gpus:',gpus)\n",
    "if gpus:\n",
    "    try:\n",
    "        tf.config.experimental.set_visible_devices(gpus[0], 'GPU')\n",
    "        tf.config.experimental.set_memory_growth(gpus[0], True)\n",
    "        logical_gpus = tf.config.experimental.list_logical_devices('GPU')\n",
    "        print(len(gpus), \"Physical GPU,\", len(logical_gpus), \"Logical GPUs\")\n",
    "    except RuntimeError as e:\n",
    "        # Virtual devices must be set before GPUs have been initialized\n",
    "        print(e)"
   ]
  },
  {
   "cell_type": "code",
   "execution_count": 5,
   "metadata": {},
   "outputs": [
    {
     "name": "stderr",
     "output_type": "stream",
     "text": [
      "94493it [00:00, 882371.96it/s]\n",
      "94493it [00:00, 1452495.82it/s]\n",
      "31825it [00:00, 871155.84it/s]\n",
      "31825it [00:00, 1551090.25it/s]\n"
     ]
    }
   ],
   "source": [
    "dataset = utils.makeDataset(pathFromCwdToDataRoot=\"Data\")"
   ]
  },
  {
   "cell_type": "code",
   "execution_count": 6,
   "metadata": {},
   "outputs": [
    {
     "name": "stderr",
     "output_type": "stream",
     "text": [
      "C:\\Users\\music\\anaconda3\\envs\\csc790\\lib\\site-packages\\keras_preprocessing\\image\\image_data_generator.py:356: UserWarning: This ImageDataGenerator specifies `samplewise_std_normalization`, which overrides setting of `samplewise_center`.\n",
      "  warnings.warn('This ImageDataGenerator specifies '\n"
     ]
    },
    {
     "name": "stdout",
     "output_type": "stream",
     "text": [
      "Found 102315 non-validated image filenames belonging to 2 classes.\n"
     ]
    },
    {
     "name": "stderr",
     "output_type": "stream",
     "text": [
      "C:\\Users\\music\\anaconda3\\envs\\csc790\\lib\\site-packages\\keras_preprocessing\\image\\image_data_generator.py:356: UserWarning: This ImageDataGenerator specifies `samplewise_std_normalization`, which overrides setting of `samplewise_center`.\n",
      "  warnings.warn('This ImageDataGenerator specifies '\n",
      "C:\\Users\\music\\anaconda3\\envs\\csc790\\lib\\site-packages\\keras_preprocessing\\image\\image_data_generator.py:356: UserWarning: This ImageDataGenerator specifies `samplewise_std_normalization`, which overrides setting of `samplewise_center`.\n",
      "  warnings.warn('This ImageDataGenerator specifies '\n"
     ]
    },
    {
     "name": "stdout",
     "output_type": "stream",
     "text": [
      "Found 12633 non-validated image filenames belonging to 2 classes.\n",
      "Found 11370 non-validated image filenames belonging to 2 classes.\n",
      "\n",
      "Found 102315 non-validated image filenames belonging to 2 classes.\n"
     ]
    },
    {
     "name": "stderr",
     "output_type": "stream",
     "text": [
      "C:\\Users\\music\\anaconda3\\envs\\csc790\\lib\\site-packages\\keras_preprocessing\\image\\image_data_generator.py:356: UserWarning: This ImageDataGenerator specifies `samplewise_std_normalization`, which overrides setting of `samplewise_center`.\n",
      "  warnings.warn('This ImageDataGenerator specifies '\n",
      "C:\\Users\\music\\anaconda3\\envs\\csc790\\lib\\site-packages\\keras_preprocessing\\image\\image_data_generator.py:356: UserWarning: This ImageDataGenerator specifies `samplewise_std_normalization`, which overrides setting of `samplewise_center`.\n",
      "  warnings.warn('This ImageDataGenerator specifies '\n"
     ]
    },
    {
     "name": "stdout",
     "output_type": "stream",
     "text": [
      "Found 12633 non-validated image filenames belonging to 2 classes.\n",
      "Found 11370 non-validated image filenames belonging to 2 classes.\n",
      "\n",
      "Found 102315 non-validated image filenames belonging to 2 classes.\n"
     ]
    },
    {
     "name": "stderr",
     "output_type": "stream",
     "text": [
      "C:\\Users\\music\\anaconda3\\envs\\csc790\\lib\\site-packages\\keras_preprocessing\\image\\image_data_generator.py:356: UserWarning: This ImageDataGenerator specifies `samplewise_std_normalization`, which overrides setting of `samplewise_center`.\n",
      "  warnings.warn('This ImageDataGenerator specifies '\n",
      "C:\\Users\\music\\anaconda3\\envs\\csc790\\lib\\site-packages\\keras_preprocessing\\image\\image_data_generator.py:356: UserWarning: This ImageDataGenerator specifies `samplewise_std_normalization`, which overrides setting of `samplewise_center`.\n",
      "  warnings.warn('This ImageDataGenerator specifies '\n"
     ]
    },
    {
     "name": "stdout",
     "output_type": "stream",
     "text": [
      "Found 12633 non-validated image filenames belonging to 2 classes.\n",
      "Found 11370 non-validated image filenames belonging to 2 classes.\n",
      "\n",
      "Found 102315 non-validated image filenames belonging to 2 classes.\n"
     ]
    },
    {
     "name": "stderr",
     "output_type": "stream",
     "text": [
      "C:\\Users\\music\\anaconda3\\envs\\csc790\\lib\\site-packages\\keras_preprocessing\\image\\image_data_generator.py:356: UserWarning: This ImageDataGenerator specifies `samplewise_std_normalization`, which overrides setting of `samplewise_center`.\n",
      "  warnings.warn('This ImageDataGenerator specifies '\n",
      "C:\\Users\\music\\anaconda3\\envs\\csc790\\lib\\site-packages\\keras_preprocessing\\image\\image_data_generator.py:356: UserWarning: This ImageDataGenerator specifies `samplewise_std_normalization`, which overrides setting of `samplewise_center`.\n",
      "  warnings.warn('This ImageDataGenerator specifies '\n"
     ]
    },
    {
     "name": "stdout",
     "output_type": "stream",
     "text": [
      "Found 12633 non-validated image filenames belonging to 2 classes.\n",
      "Found 11370 non-validated image filenames belonging to 2 classes.\n",
      "\n",
      "Found 102315 non-validated image filenames belonging to 2 classes.\n"
     ]
    },
    {
     "name": "stderr",
     "output_type": "stream",
     "text": [
      "C:\\Users\\music\\anaconda3\\envs\\csc790\\lib\\site-packages\\keras_preprocessing\\image\\image_data_generator.py:356: UserWarning: This ImageDataGenerator specifies `samplewise_std_normalization`, which overrides setting of `samplewise_center`.\n",
      "  warnings.warn('This ImageDataGenerator specifies '\n",
      "C:\\Users\\music\\anaconda3\\envs\\csc790\\lib\\site-packages\\keras_preprocessing\\image\\image_data_generator.py:356: UserWarning: This ImageDataGenerator specifies `samplewise_std_normalization`, which overrides setting of `samplewise_center`.\n",
      "  warnings.warn('This ImageDataGenerator specifies '\n"
     ]
    },
    {
     "name": "stdout",
     "output_type": "stream",
     "text": [
      "Found 12633 non-validated image filenames belonging to 2 classes.\n",
      "Found 11370 non-validated image filenames belonging to 2 classes.\n",
      "\n",
      "Found 102315 non-validated image filenames belonging to 2 classes.\n"
     ]
    },
    {
     "name": "stderr",
     "output_type": "stream",
     "text": [
      "C:\\Users\\music\\anaconda3\\envs\\csc790\\lib\\site-packages\\keras_preprocessing\\image\\image_data_generator.py:356: UserWarning: This ImageDataGenerator specifies `samplewise_std_normalization`, which overrides setting of `samplewise_center`.\n",
      "  warnings.warn('This ImageDataGenerator specifies '\n",
      "C:\\Users\\music\\anaconda3\\envs\\csc790\\lib\\site-packages\\keras_preprocessing\\image\\image_data_generator.py:356: UserWarning: This ImageDataGenerator specifies `samplewise_std_normalization`, which overrides setting of `samplewise_center`.\n",
      "  warnings.warn('This ImageDataGenerator specifies '\n"
     ]
    },
    {
     "name": "stdout",
     "output_type": "stream",
     "text": [
      "Found 12633 non-validated image filenames belonging to 2 classes.\n",
      "Found 11370 non-validated image filenames belonging to 2 classes.\n",
      "\n",
      "Found 102315 non-validated image filenames belonging to 2 classes.\n",
      "Found 12633 non-validated image filenames belonging to 2 classes.\n",
      "Found 11370 non-validated image filenames belonging to 2 classes.\n",
      "\n"
     ]
    },
    {
     "name": "stderr",
     "output_type": "stream",
     "text": [
      "C:\\Users\\music\\anaconda3\\envs\\csc790\\lib\\site-packages\\keras_preprocessing\\image\\image_data_generator.py:356: UserWarning: This ImageDataGenerator specifies `samplewise_std_normalization`, which overrides setting of `samplewise_center`.\n",
      "  warnings.warn('This ImageDataGenerator specifies '\n",
      "C:\\Users\\music\\anaconda3\\envs\\csc790\\lib\\site-packages\\keras_preprocessing\\image\\image_data_generator.py:356: UserWarning: This ImageDataGenerator specifies `samplewise_std_normalization`, which overrides setting of `samplewise_center`.\n",
      "  warnings.warn('This ImageDataGenerator specifies '\n"
     ]
    },
    {
     "name": "stdout",
     "output_type": "stream",
     "text": [
      "Found 102315 non-validated image filenames belonging to 2 classes.\n"
     ]
    },
    {
     "name": "stderr",
     "output_type": "stream",
     "text": [
      "C:\\Users\\music\\anaconda3\\envs\\csc790\\lib\\site-packages\\keras_preprocessing\\image\\image_data_generator.py:356: UserWarning: This ImageDataGenerator specifies `samplewise_std_normalization`, which overrides setting of `samplewise_center`.\n",
      "  warnings.warn('This ImageDataGenerator specifies '\n",
      "C:\\Users\\music\\anaconda3\\envs\\csc790\\lib\\site-packages\\keras_preprocessing\\image\\image_data_generator.py:356: UserWarning: This ImageDataGenerator specifies `samplewise_std_normalization`, which overrides setting of `samplewise_center`.\n",
      "  warnings.warn('This ImageDataGenerator specifies '\n"
     ]
    },
    {
     "name": "stdout",
     "output_type": "stream",
     "text": [
      "Found 12633 non-validated image filenames belonging to 2 classes.\n",
      "Found 11370 non-validated image filenames belonging to 2 classes.\n",
      "\n",
      "Found 102315 non-validated image filenames belonging to 2 classes.\n",
      "Found 12633 non-validated image filenames belonging to 2 classes.\n"
     ]
    },
    {
     "name": "stderr",
     "output_type": "stream",
     "text": [
      "C:\\Users\\music\\anaconda3\\envs\\csc790\\lib\\site-packages\\keras_preprocessing\\image\\image_data_generator.py:356: UserWarning: This ImageDataGenerator specifies `samplewise_std_normalization`, which overrides setting of `samplewise_center`.\n",
      "  warnings.warn('This ImageDataGenerator specifies '\n",
      "C:\\Users\\music\\anaconda3\\envs\\csc790\\lib\\site-packages\\keras_preprocessing\\image\\image_data_generator.py:356: UserWarning: This ImageDataGenerator specifies `samplewise_std_normalization`, which overrides setting of `samplewise_center`.\n",
      "  warnings.warn('This ImageDataGenerator specifies '\n"
     ]
    },
    {
     "name": "stdout",
     "output_type": "stream",
     "text": [
      "Found 11370 non-validated image filenames belonging to 2 classes.\n",
      "\n",
      "Found 102315 non-validated image filenames belonging to 2 classes.\n",
      "Found 12633 non-validated image filenames belonging to 2 classes.\n",
      "Found 11370 non-validated image filenames belonging to 2 classes.\n",
      "\n"
     ]
    },
    {
     "name": "stderr",
     "output_type": "stream",
     "text": [
      "C:\\Users\\music\\anaconda3\\envs\\csc790\\lib\\site-packages\\keras_preprocessing\\image\\image_data_generator.py:356: UserWarning: This ImageDataGenerator specifies `samplewise_std_normalization`, which overrides setting of `samplewise_center`.\n",
      "  warnings.warn('This ImageDataGenerator specifies '\n"
     ]
    }
   ],
   "source": [
    "kFCV_sets, weights_dict = utils.makeFolds(dataset=dataset, n_folds=n_folds, batch_size=batch_size)"
   ]
  },
  {
   "cell_type": "code",
   "execution_count": 7,
   "metadata": {},
   "outputs": [
    {
     "name": "stdout",
     "output_type": "stream",
     "text": [
      "{0: 0.9585261658953365, 1: 1.045225155279503}\n"
     ]
    }
   ],
   "source": [
    "print(weights_dict)"
   ]
  },
  {
   "cell_type": "code",
   "execution_count": 8,
   "metadata": {},
   "outputs": [
    {
     "name": "stdout",
     "output_type": "stream",
     "text": [
      "Fold 1 of 10\n",
      "Epoch 1/100\n",
      "  2/800 [..............................] - ETA: 1:00 - loss: 0.7235 - accuracy: 0.5117WARNING:tensorflow:Callbacks method `on_train_batch_end` is slow compared to the batch time (batch time: 0.0515s vs `on_train_batch_end` time: 0.1011s). Check your callbacks.\n",
      "800/800 [==============================] - 127s 158ms/step - loss: 0.5900 - accuracy: 0.8018 - val_loss: 0.5615 - val_accuracy: 0.8755\n",
      "Epoch 2/100\n",
      "800/800 [==============================] - 125s 157ms/step - loss: 0.5529 - accuracy: 0.8897 - val_loss: 0.5479 - val_accuracy: 0.9120\n",
      "Epoch 3/100\n",
      "800/800 [==============================] - 125s 157ms/step - loss: 0.5385 - accuracy: 0.9218 - val_loss: 0.5426 - val_accuracy: 0.9367\n",
      "Epoch 4/100\n",
      "800/800 [==============================] - 126s 157ms/step - loss: 0.5314 - accuracy: 0.9380 - val_loss: 0.5316 - val_accuracy: 0.9571\n",
      "Epoch 5/100\n",
      "800/800 [==============================] - 125s 157ms/step - loss: 0.5276 - accuracy: 0.9478 - val_loss: 0.5322 - val_accuracy: 0.9606\n",
      "Epoch 6/100\n",
      "800/800 [==============================] - 123s 153ms/step - loss: 0.5338 - accuracy: 0.9341 - val_loss: 0.5361 - val_accuracy: 0.9383\n",
      "Epoch 7/100\n",
      "800/800 [==============================] - ETA: 0s - loss: 0.5255 - accuracy: 0.9519Restoring model weights from the end of the best epoch.\n",
      "800/800 [==============================] - 123s 154ms/step - loss: 0.5255 - accuracy: 0.9519 - val_loss: 0.5268 - val_accuracy: 0.9685\n",
      "Epoch 00007: early stopping\n",
      "99/99 [==============================] - 5s 55ms/step - loss: 0.5332 - accuracy: 0.9542\n",
      "WARNING:tensorflow:From C:\\Users\\music\\anaconda3\\envs\\csc790\\lib\\site-packages\\tensorflow\\python\\training\\tracking\\tracking.py:111: Model.state_updates (from tensorflow.python.keras.engine.training) is deprecated and will be removed in a future version.\n",
      "Instructions for updating:\n",
      "This property should not be used in TensorFlow 2.0, as updates are applied automatically.\n",
      "WARNING:tensorflow:From C:\\Users\\music\\anaconda3\\envs\\csc790\\lib\\site-packages\\tensorflow\\python\\training\\tracking\\tracking.py:111: Layer.updates (from tensorflow.python.keras.engine.base_layer) is deprecated and will be removed in a future version.\n",
      "Instructions for updating:\n",
      "This property should not be used in TensorFlow 2.0, as updates are applied automatically.\n",
      "INFO:tensorflow:Assets written to: Models/SimpleDenseNet\\assets\n",
      "Fold 2 of 10\n",
      "Epoch 1/100\n",
      "  2/800 [..............................] - ETA: 1:04 - loss: 0.7234 - accuracy: 0.5391WARNING:tensorflow:Callbacks method `on_train_batch_end` is slow compared to the batch time (batch time: 0.0570s vs `on_train_batch_end` time: 0.1026s). Check your callbacks.\n",
      "800/800 [==============================] - 128s 160ms/step - loss: 0.5896 - accuracy: 0.7997 - val_loss: 0.5451 - val_accuracy: 0.9296\n",
      "Epoch 2/100\n",
      "800/800 [==============================] - 125s 157ms/step - loss: 0.5435 - accuracy: 0.9110 - val_loss: 0.5381 - val_accuracy: 0.9392\n",
      "Epoch 3/100\n",
      "800/800 [==============================] - 123s 154ms/step - loss: 0.5324 - accuracy: 0.9360 - val_loss: 0.5347 - val_accuracy: 0.9572\n",
      "Epoch 4/100\n",
      "800/800 [==============================] - 124s 155ms/step - loss: 0.5264 - accuracy: 0.9493 - val_loss: 0.5317 - val_accuracy: 0.9600\n",
      "Epoch 5/100\n",
      "800/800 [==============================] - 121s 152ms/step - loss: 0.5230 - accuracy: 0.9570 - val_loss: 0.5319 - val_accuracy: 0.9605\n",
      "Epoch 6/100\n",
      "800/800 [==============================] - ETA: 0s - loss: 0.5233 - accuracy: 0.9562Restoring model weights from the end of the best epoch.\n",
      "800/800 [==============================] - 123s 154ms/step - loss: 0.5233 - accuracy: 0.9562 - val_loss: 0.5267 - val_accuracy: 0.9652\n",
      "Epoch 00006: early stopping\n",
      "99/99 [==============================] - 5s 51ms/step - loss: 0.5369 - accuracy: 0.9515\n",
      "Fold 3 of 10\n",
      "Epoch 1/100\n",
      "  2/800 [..............................] - ETA: 1:02 - loss: 0.7249 - accuracy: 0.4922WARNING:tensorflow:Callbacks method `on_train_batch_end` is slow compared to the batch time (batch time: 0.0540s vs `on_train_batch_end` time: 0.1036s). Check your callbacks.\n",
      "800/800 [==============================] - 124s 155ms/step - loss: 0.5846 - accuracy: 0.8126 - val_loss: 0.5414 - val_accuracy: 0.9305\n",
      "Epoch 2/100\n",
      "800/800 [==============================] - 120s 151ms/step - loss: 0.5396 - accuracy: 0.9193 - val_loss: 0.5399 - val_accuracy: 0.9423\n",
      "Epoch 3/100\n",
      "800/800 [==============================] - 123s 154ms/step - loss: 0.5310 - accuracy: 0.9400 - val_loss: 0.5539 - val_accuracy: 0.8939\n",
      "Epoch 4/100\n",
      "800/800 [==============================] - ETA: 0s - loss: 0.5333 - accuracy: 0.9350Restoring model weights from the end of the best epoch.\n",
      "800/800 [==============================] - 123s 154ms/step - loss: 0.5333 - accuracy: 0.9350 - val_loss: 0.5334 - val_accuracy: 0.9522\n",
      "Epoch 00004: early stopping\n",
      "99/99 [==============================] - 5s 54ms/step - loss: 0.5477 - accuracy: 0.9180\n",
      "Fold 4 of 10\n",
      "Epoch 1/100\n",
      "  2/800 [..............................] - ETA: 59s - loss: 0.7031 - accuracy: 0.4883WARNING:tensorflow:Callbacks method `on_train_batch_end` is slow compared to the batch time (batch time: 0.0530s vs `on_train_batch_end` time: 0.0966s). Check your callbacks.\n",
      "800/800 [==============================] - 122s 152ms/step - loss: 0.5702 - accuracy: 0.8465 - val_loss: 0.5429 - val_accuracy: 0.9379\n",
      "Epoch 2/100\n",
      "800/800 [==============================] - 121s 151ms/step - loss: 0.5374 - accuracy: 0.9251 - val_loss: 0.5340 - val_accuracy: 0.9500\n",
      "Epoch 3/100\n",
      "800/800 [==============================] - 121s 151ms/step - loss: 0.5334 - accuracy: 0.9337 - val_loss: 0.5507 - val_accuracy: 0.9322\n",
      "Epoch 4/100\n",
      "800/800 [==============================] - 121s 151ms/step - loss: 0.5285 - accuracy: 0.9452 - val_loss: 0.5293 - val_accuracy: 0.9595\n",
      "Epoch 5/100\n",
      "800/800 [==============================] - 121s 151ms/step - loss: 0.5245 - accuracy: 0.9542 - val_loss: 0.5347 - val_accuracy: 0.9537\n",
      "Epoch 6/100\n",
      "800/800 [==============================] - 121s 151ms/step - loss: 0.5236 - accuracy: 0.9555 - val_loss: 0.5281 - val_accuracy: 0.9602\n",
      "Epoch 7/100\n",
      "800/800 [==============================] - ETA: 0s - loss: 0.5209 - accuracy: 0.9618Restoring model weights from the end of the best epoch.\n",
      "800/800 [==============================] - 121s 151ms/step - loss: 0.5209 - accuracy: 0.9618 - val_loss: 0.5294 - val_accuracy: 0.9622\n",
      "Epoch 00007: early stopping\n",
      "99/99 [==============================] - 5s 52ms/step - loss: 0.5314 - accuracy: 0.9545\n",
      "Fold 5 of 10\n",
      "Epoch 1/100\n",
      "  2/800 [..............................] - ETA: 59s - loss: 0.7103 - accuracy: 0.5000WARNING:tensorflow:Callbacks method `on_train_batch_end` is slow compared to the batch time (batch time: 0.0520s vs `on_train_batch_end` time: 0.0956s). Check your callbacks.\n",
      "800/800 [==============================] - 122s 152ms/step - loss: 0.5567 - accuracy: 0.8797 - val_loss: 0.5434 - val_accuracy: 0.9196\n",
      "Epoch 2/100\n",
      "800/800 [==============================] - 121s 152ms/step - loss: 0.5345 - accuracy: 0.9318 - val_loss: 0.5351 - val_accuracy: 0.9425\n",
      "Epoch 3/100\n",
      "800/800 [==============================] - 121s 152ms/step - loss: 0.5293 - accuracy: 0.9431 - val_loss: 0.5319 - val_accuracy: 0.9507\n",
      "Epoch 4/100\n",
      "800/800 [==============================] - 121s 152ms/step - loss: 0.5273 - accuracy: 0.9470 - val_loss: 0.5372 - val_accuracy: 0.9507\n",
      "Epoch 5/100\n",
      "800/800 [==============================] - 121s 152ms/step - loss: 0.5243 - accuracy: 0.9545 - val_loss: 0.5293 - val_accuracy: 0.9610\n",
      "Epoch 6/100\n",
      "800/800 [==============================] - ETA: 0s - loss: 0.5349 - accuracy: 0.9287Restoring model weights from the end of the best epoch.\n",
      "800/800 [==============================] - 121s 152ms/step - loss: 0.5349 - accuracy: 0.9287 - val_loss: 0.5530 - val_accuracy: 0.9270\n",
      "Epoch 00006: early stopping\n",
      "99/99 [==============================] - 5s 53ms/step - loss: 0.5339 - accuracy: 0.9465\n",
      "Fold 6 of 10\n",
      "Epoch 1/100\n",
      "  2/800 [..............................] - ETA: 59s - loss: 0.7014 - accuracy: 0.4844WARNING:tensorflow:Callbacks method `on_train_batch_end` is slow compared to the batch time (batch time: 0.0525s vs `on_train_batch_end` time: 0.0956s). Check your callbacks.\n",
      "800/800 [==============================] - 122s 152ms/step - loss: 0.5707 - accuracy: 0.8464 - val_loss: 0.5451 - val_accuracy: 0.9231\n",
      "Epoch 2/100\n",
      "800/800 [==============================] - 121s 152ms/step - loss: 0.5398 - accuracy: 0.9198 - val_loss: 0.5422 - val_accuracy: 0.9315\n",
      "Epoch 3/100\n",
      "800/800 [==============================] - 121s 152ms/step - loss: 0.5311 - accuracy: 0.9382 - val_loss: 0.5347 - val_accuracy: 0.9447\n",
      "Epoch 4/100\n",
      "800/800 [==============================] - 121s 151ms/step - loss: 0.5265 - accuracy: 0.9490 - val_loss: 0.5307 - val_accuracy: 0.9538\n",
      "Epoch 5/100\n",
      "800/800 [==============================] - 121s 151ms/step - loss: 0.5251 - accuracy: 0.9523 - val_loss: 0.5517 - val_accuracy: 0.8954\n",
      "Epoch 6/100\n",
      "800/800 [==============================] - ETA: 0s - loss: 0.6191 - accuracy: 0.7357Restoring model weights from the end of the best epoch.\n",
      "800/800 [==============================] - 121s 151ms/step - loss: 0.6191 - accuracy: 0.7357 - val_loss: 0.6870 - val_accuracy: 0.5379\n",
      "Epoch 00006: early stopping\n",
      "99/99 [==============================] - 5s 52ms/step - loss: 0.5352 - accuracy: 0.9427\n",
      "Fold 7 of 10\n",
      "Epoch 1/100\n",
      "  2/800 [..............................] - ETA: 59s - loss: 0.7250 - accuracy: 0.5703WARNING:tensorflow:Callbacks method `on_train_batch_end` is slow compared to the batch time (batch time: 0.0530s vs `on_train_batch_end` time: 0.0951s). Check your callbacks.\n",
      "800/800 [==============================] - 122s 152ms/step - loss: 0.5728 - accuracy: 0.8398 - val_loss: 0.5477 - val_accuracy: 0.9307\n",
      "Epoch 2/100\n",
      "800/800 [==============================] - 121s 152ms/step - loss: 0.5364 - accuracy: 0.9267 - val_loss: 0.5380 - val_accuracy: 0.9489\n",
      "Epoch 3/100\n",
      "800/800 [==============================] - 121s 151ms/step - loss: 0.5347 - accuracy: 0.9307 - val_loss: 0.5309 - val_accuracy: 0.9536\n",
      "Epoch 4/100\n",
      "800/800 [==============================] - 121s 151ms/step - loss: 0.5332 - accuracy: 0.9351 - val_loss: 0.6597 - val_accuracy: 0.6097\n",
      "Epoch 5/100\n",
      "800/800 [==============================] - 121s 151ms/step - loss: 0.7311 - accuracy: 0.5749 - val_loss: 0.8349 - val_accuracy: 0.4784\n",
      "Epoch 6/100\n",
      "800/800 [==============================] - ETA: 0s - loss: 0.8133 - accuracy: 0.4784Restoring model weights from the end of the best epoch.\n",
      "800/800 [==============================] - 121s 151ms/step - loss: 0.8133 - accuracy: 0.4784 - val_loss: 0.8349 - val_accuracy: 0.4784\n",
      "Epoch 00006: early stopping\n",
      "99/99 [==============================] - 5s 54ms/step - loss: 0.5327 - accuracy: 0.9497\n",
      "Fold 8 of 10\n",
      "Epoch 1/100\n",
      "  2/800 [..............................] - ETA: 59s - loss: 0.7412 - accuracy: 0.4883WARNING:tensorflow:Callbacks method `on_train_batch_end` is slow compared to the batch time (batch time: 0.0530s vs `on_train_batch_end` time: 0.0946s). Check your callbacks.\n",
      "800/800 [==============================] - 122s 152ms/step - loss: 0.5688 - accuracy: 0.8491 - val_loss: 0.5466 - val_accuracy: 0.9327\n",
      "Epoch 2/100\n",
      "800/800 [==============================] - 124s 155ms/step - loss: 0.5349 - accuracy: 0.9297 - val_loss: 0.5364 - val_accuracy: 0.9500\n",
      "Epoch 3/100\n",
      "800/800 [==============================] - 125s 156ms/step - loss: 0.5301 - accuracy: 0.9409 - val_loss: 0.5332 - val_accuracy: 0.9588\n",
      "Epoch 4/100\n",
      "800/800 [==============================] - 131s 163ms/step - loss: 0.5271 - accuracy: 0.9481 - val_loss: 0.5326 - val_accuracy: 0.9564\n",
      "Epoch 5/100\n",
      "800/800 [==============================] - ETA: 0s - loss: 0.5233 - accuracy: 0.9566Restoring model weights from the end of the best epoch.\n",
      "800/800 [==============================] - 121s 152ms/step - loss: 0.5233 - accuracy: 0.9566 - val_loss: 0.5276 - val_accuracy: 0.9640\n",
      "Epoch 00005: early stopping\n",
      "99/99 [==============================] - 5s 52ms/step - loss: 0.5361 - accuracy: 0.9503\n",
      "Fold 9 of 10\n",
      "Epoch 1/100\n",
      "  2/800 [..............................] - ETA: 59s - loss: 0.7327 - accuracy: 0.5586WARNING:tensorflow:Callbacks method `on_train_batch_end` is slow compared to the batch time (batch time: 0.0525s vs `on_train_batch_end` time: 0.0966s). Check your callbacks.\n",
      "800/800 [==============================] - 122s 152ms/step - loss: 0.5625 - accuracy: 0.8656 - val_loss: 0.5426 - val_accuracy: 0.9232\n",
      "Epoch 2/100\n",
      "800/800 [==============================] - 123s 153ms/step - loss: 0.5357 - accuracy: 0.9287 - val_loss: 0.5344 - val_accuracy: 0.9489\n",
      "Epoch 3/100\n",
      "800/800 [==============================] - 122s 152ms/step - loss: 0.5289 - accuracy: 0.9441 - val_loss: 0.5323 - val_accuracy: 0.9535\n",
      "Epoch 4/100\n",
      "800/800 [==============================] - 121s 152ms/step - loss: 0.5291 - accuracy: 0.9430 - val_loss: 0.5338 - val_accuracy: 0.9551\n",
      "Epoch 5/100\n",
      "800/800 [==============================] - 122s 152ms/step - loss: 0.5246 - accuracy: 0.9536 - val_loss: 0.5273 - val_accuracy: 0.9638\n",
      "Epoch 6/100\n",
      "800/800 [==============================] - ETA: 0s - loss: 0.5225 - accuracy: 0.9586Restoring model weights from the end of the best epoch.\n",
      "800/800 [==============================] - 122s 152ms/step - loss: 0.5225 - accuracy: 0.9586 - val_loss: 0.5354 - val_accuracy: 0.9550\n",
      "Epoch 00006: early stopping\n",
      "99/99 [==============================] - 5s 53ms/step - loss: 0.5313 - accuracy: 0.9551\n",
      "Fold 10 of 10\n",
      "Epoch 1/100\n",
      "  2/800 [..............................] - ETA: 59s - loss: 0.7049 - accuracy: 0.4883WARNING:tensorflow:Callbacks method `on_train_batch_end` is slow compared to the batch time (batch time: 0.0520s vs `on_train_batch_end` time: 0.0961s). Check your callbacks.\n",
      "800/800 [==============================] - 123s 153ms/step - loss: 0.5631 - accuracy: 0.8648 - val_loss: 0.5409 - val_accuracy: 0.9290\n",
      "Epoch 2/100\n",
      "800/800 [==============================] - 122s 153ms/step - loss: 0.5362 - accuracy: 0.9275 - val_loss: 0.5397 - val_accuracy: 0.9478\n",
      "Epoch 3/100\n",
      "800/800 [==============================] - 122s 152ms/step - loss: 0.5299 - accuracy: 0.9421 - val_loss: 0.5362 - val_accuracy: 0.9522\n",
      "Epoch 4/100\n",
      "800/800 [==============================] - ETA: 0s - loss: 0.5872 - accuracy: 0.8396Restoring model weights from the end of the best epoch.\n",
      "800/800 [==============================] - 122s 152ms/step - loss: 0.5872 - accuracy: 0.8396 - val_loss: 0.8349 - val_accuracy: 0.4784\n",
      "Epoch 00004: early stopping\n",
      "99/99 [==============================] - 5s 55ms/step - loss: 0.5469 - accuracy: 0.9158\n"
     ]
    }
   ],
   "source": [
    "k_results=pd.DataFrame(columns = ['Fold', 'Loss', 'Accuracy'])\n",
    "\n",
    "for i, k in enumerate(kFCV_sets):\n",
    "    print(\"Fold\", i+1, \"of\", len(kFCV_sets))\n",
    "\n",
    "    train_generator, test_generator, val_generator = k\n",
    "\n",
    "    #Build Model\n",
    "    model = utils.makeModel(inputShape=(150, 150, 3), modelName=modelName)\n",
    "    opt = tf.optimizers.Adam()\n",
    "    model.compile(\n",
    "        optimizer = opt,\n",
    "        loss = keras.losses.BinaryCrossentropy(from_logits = True),\n",
    "        metrics = [\"accuracy\"]\n",
    "    )\n",
    "\n",
    "    #Fit data  \n",
    "    model.fit(\n",
    "        train_generator,\n",
    "        validation_data=val_generator,\n",
    "        callbacks = utils.callbacks,\n",
    "        epochs = 100,\n",
    "        class_weight = weights_dict,\n",
    "        max_queue_size = 10,\n",
    "        workers = os.cpu_count(),\n",
    "    )\n",
    "\n",
    "    #Test accuracy\n",
    "    results = model.evaluate(\n",
    "        test_generator,\n",
    "        max_queue_size = 10,\n",
    "        workers = os.cpu_count(),\n",
    "    )\n",
    "\n",
    "    k_results = k_results.append({'Fold':i+1, 'Loss':results[0], 'Accuracy':results[1]}, ignore_index=True)\n",
    "    \n",
    "    if i == 0:\n",
    "        # Write the summary to a file\n",
    "        with open(f'Results/{modelName}Summary.txt', 'w') as f:\n",
    "            with redirect_stdout(f):\n",
    "                print(model.summary())\n",
    "        #Save the model\n",
    "        model.save(f'Models/{modelName}')\n",
    "        \n",
    "    keras.backend.clear_session() \n",
    "\n",
    "k_results = k_results.append({'Fold':\"Avg\", 'Loss':np.average(k_results['Loss']), 'Accuracy':np.average(k_results['Accuracy'])}, ignore_index=True)"
   ]
  },
  {
   "cell_type": "code",
   "execution_count": 9,
   "metadata": {},
   "outputs": [],
   "source": [
    "if n_folds != 1:\n",
    "    k_results.to_csv(f'Results/k-fcv_{modelName}.csv')"
   ]
  }
 ],
 "metadata": {
  "kernelspec": {
   "display_name": "csc790",
   "language": "python",
   "name": "csc790"
  },
  "language_info": {
   "codemirror_mode": {
    "name": "ipython",
    "version": 3
   },
   "file_extension": ".py",
   "mimetype": "text/x-python",
   "name": "python",
   "nbconvert_exporter": "python",
   "pygments_lexer": "ipython3",
   "version": "3.8.5"
  }
 },
 "nbformat": 4,
 "nbformat_minor": 4
}
