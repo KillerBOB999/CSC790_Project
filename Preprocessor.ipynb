{
 "cells": [
  {
   "cell_type": "markdown",
   "metadata": {},
   "source": [
    "# Data Preprocessing"
   ]
  },
  {
   "cell_type": "markdown",
   "metadata": {},
   "source": [
    "The purpose of this notebook is to preprocess the data available in the CNRPark data set from [CNRPart.it](cnrpark.it), so that a Convolutional Neural Network can be applied to it."
   ]
  },
  {
   "cell_type": "code",
   "execution_count": 1,
   "metadata": {},
   "outputs": [],
   "source": [
    "import os\n",
    "from PIL import Image\n",
    "from tqdm import tqdm"
   ]
  },
  {
   "cell_type": "code",
   "execution_count": 2,
   "metadata": {},
   "outputs": [],
   "source": [
    "def getImageDirs(root):\n",
    "    imageDirs = []\n",
    "    for subDirectory, directory, files in os.walk(root):\n",
    "        for file in files:\n",
    "            if file[-4:] == \".jpg\":\n",
    "                path = os.path.join(subDirectory, file)         \n",
    "                imageDirs.append(path)\n",
    "    return imageDirs"
   ]
  },
  {
   "cell_type": "code",
   "execution_count": 3,
   "metadata": {},
   "outputs": [],
   "source": [
    "root = \"C:\\\\Users\\\\music\\\\Desktop\\\\PATCHES\"#os.getcwd() + \"\\\\CNRPark-Patches-150x150\"\n",
    "imageDirs = getImageDirs(root)"
   ]
  },
  {
   "cell_type": "code",
   "execution_count": 4,
   "metadata": {},
   "outputs": [
    {
     "name": "stderr",
     "output_type": "stream",
     "text": [
      "100%|█████████████████████████████████| 144965/144965 [22:32<00:00, 107.15it/s]\n"
     ]
    },
    {
     "name": "stdout",
     "output_type": "stream",
     "text": [
      "Resized 3164 images out of 144965.\n"
     ]
    }
   ],
   "source": [
    "resizedCounter = 0\n",
    "for imageDir in tqdm(imageDirs):    \n",
    "    image = Image.open(imageDir)\n",
    "    if image.size != (150, 150):\n",
    "        image = image.resize((150, 150))\n",
    "        image.save(imageDir)\n",
    "        resizedCounter += 1\n",
    "print(f'Resized {resizedCounter} images out of {len(imageDirs)}.')"
   ]
  }
 ],
 "metadata": {
  "kernelspec": {
   "display_name": "Python 3",
   "language": "python",
   "name": "python3"
  },
  "language_info": {
   "codemirror_mode": {
    "name": "ipython",
    "version": 3
   },
   "file_extension": ".py",
   "mimetype": "text/x-python",
   "name": "python",
   "nbconvert_exporter": "python",
   "pygments_lexer": "ipython3",
   "version": "3.6.10"
  }
 },
 "nbformat": 4,
 "nbformat_minor": 4
}
