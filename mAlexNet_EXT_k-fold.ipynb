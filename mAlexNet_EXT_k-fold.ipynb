{
 "cells": [
  {
   "cell_type": "code",
   "execution_count": 1,
   "metadata": {},
   "outputs": [],
   "source": [
    "import numpy as np\n",
    "import pandas as pd\n",
    "\n",
    "import tensorflow as tf\n",
    "from tensorflow import keras\n",
    "from tensorflow.random import set_seed\n",
    "\n",
    "from tqdm import tqdm\n",
    "from contextlib import redirect_stdout\n",
    "import os\n",
    "\n",
    "import utils"
   ]
  },
  {
   "cell_type": "code",
   "execution_count": 2,
   "metadata": {},
   "outputs": [],
   "source": [
    "# Define a model name for repeated use\n",
    "modelName = \"mAlexNet\"\n",
    "n_folds = 10 # 1 = normal experiment\n",
    "batch_size = 128 # 128 is default across the models"
   ]
  },
  {
   "cell_type": "code",
   "execution_count": 3,
   "metadata": {},
   "outputs": [],
   "source": [
    "#Seeding random state to 13 always, for reproducibility\n",
    "np.random.seed(utils.seed)\n",
    "set_seed(utils.seed)"
   ]
  },
  {
   "cell_type": "code",
   "execution_count": 4,
   "metadata": {},
   "outputs": [
    {
     "name": "stdout",
     "output_type": "stream",
     "text": [
      "gpus: [PhysicalDevice(name='/physical_device:GPU:0', device_type='GPU')]\n",
      "1 Physical GPU, 1 Logical GPUs\n"
     ]
    }
   ],
   "source": [
    "### Used to select GPU 0=first device, 1=second device, etc...\n",
    "os.environ[\"CUDA_VISIBLE_DEVICES\"]=\"0\"\n",
    "\n",
    "gpus = tf.config.experimental.list_physical_devices('GPU')\n",
    "print('gpus:',gpus)\n",
    "if gpus:\n",
    "    try:\n",
    "        tf.config.experimental.set_visible_devices(gpus[0], 'GPU')\n",
    "        tf.config.experimental.set_memory_growth(gpus[0], True)\n",
    "        logical_gpus = tf.config.experimental.list_logical_devices('GPU')\n",
    "        print(len(gpus), \"Physical GPU,\", len(logical_gpus), \"Logical GPUs\")\n",
    "    except RuntimeError as e:\n",
    "        # Virtual devices must be set before GPUs have been initialized\n",
    "        print(e)"
   ]
  },
  {
   "cell_type": "code",
   "execution_count": 5,
   "metadata": {},
   "outputs": [
    {
     "name": "stderr",
     "output_type": "stream",
     "text": [
      "94493it [00:00, 846746.43it/s]\n",
      "94493it [00:00, 1419716.68it/s]\n",
      "31825it [00:00, 871172.90it/s]\n",
      "31825it [00:00, 1589924.78it/s]\n"
     ]
    }
   ],
   "source": [
    "dataset = utils.makeDataset(pathFromCwdToDataRoot=\"Data\")"
   ]
  },
  {
   "cell_type": "code",
   "execution_count": 6,
   "metadata": {},
   "outputs": [
    {
     "name": "stderr",
     "output_type": "stream",
     "text": [
      "C:\\Users\\music\\anaconda3\\envs\\csc790\\lib\\site-packages\\keras_preprocessing\\image\\image_data_generator.py:356: UserWarning: This ImageDataGenerator specifies `samplewise_std_normalization`, which overrides setting of `samplewise_center`.\n",
      "  warnings.warn('This ImageDataGenerator specifies '\n"
     ]
    },
    {
     "name": "stdout",
     "output_type": "stream",
     "text": [
      "Found 102315 non-validated image filenames belonging to 2 classes.\n"
     ]
    },
    {
     "name": "stderr",
     "output_type": "stream",
     "text": [
      "C:\\Users\\music\\anaconda3\\envs\\csc790\\lib\\site-packages\\keras_preprocessing\\image\\image_data_generator.py:356: UserWarning: This ImageDataGenerator specifies `samplewise_std_normalization`, which overrides setting of `samplewise_center`.\n",
      "  warnings.warn('This ImageDataGenerator specifies '\n",
      "C:\\Users\\music\\anaconda3\\envs\\csc790\\lib\\site-packages\\keras_preprocessing\\image\\image_data_generator.py:356: UserWarning: This ImageDataGenerator specifies `samplewise_std_normalization`, which overrides setting of `samplewise_center`.\n",
      "  warnings.warn('This ImageDataGenerator specifies '\n"
     ]
    },
    {
     "name": "stdout",
     "output_type": "stream",
     "text": [
      "Found 12633 non-validated image filenames belonging to 2 classes.\n",
      "Found 11370 non-validated image filenames belonging to 2 classes.\n",
      "\n",
      "Found 102315 non-validated image filenames belonging to 2 classes.\n"
     ]
    },
    {
     "name": "stderr",
     "output_type": "stream",
     "text": [
      "C:\\Users\\music\\anaconda3\\envs\\csc790\\lib\\site-packages\\keras_preprocessing\\image\\image_data_generator.py:356: UserWarning: This ImageDataGenerator specifies `samplewise_std_normalization`, which overrides setting of `samplewise_center`.\n",
      "  warnings.warn('This ImageDataGenerator specifies '\n",
      "C:\\Users\\music\\anaconda3\\envs\\csc790\\lib\\site-packages\\keras_preprocessing\\image\\image_data_generator.py:356: UserWarning: This ImageDataGenerator specifies `samplewise_std_normalization`, which overrides setting of `samplewise_center`.\n",
      "  warnings.warn('This ImageDataGenerator specifies '\n"
     ]
    },
    {
     "name": "stdout",
     "output_type": "stream",
     "text": [
      "Found 12633 non-validated image filenames belonging to 2 classes.\n",
      "Found 11370 non-validated image filenames belonging to 2 classes.\n",
      "\n",
      "Found 102315 non-validated image filenames belonging to 2 classes.\n"
     ]
    },
    {
     "name": "stderr",
     "output_type": "stream",
     "text": [
      "C:\\Users\\music\\anaconda3\\envs\\csc790\\lib\\site-packages\\keras_preprocessing\\image\\image_data_generator.py:356: UserWarning: This ImageDataGenerator specifies `samplewise_std_normalization`, which overrides setting of `samplewise_center`.\n",
      "  warnings.warn('This ImageDataGenerator specifies '\n",
      "C:\\Users\\music\\anaconda3\\envs\\csc790\\lib\\site-packages\\keras_preprocessing\\image\\image_data_generator.py:356: UserWarning: This ImageDataGenerator specifies `samplewise_std_normalization`, which overrides setting of `samplewise_center`.\n",
      "  warnings.warn('This ImageDataGenerator specifies '\n"
     ]
    },
    {
     "name": "stdout",
     "output_type": "stream",
     "text": [
      "Found 12633 non-validated image filenames belonging to 2 classes.\n",
      "Found 11370 non-validated image filenames belonging to 2 classes.\n",
      "\n",
      "Found 102315 non-validated image filenames belonging to 2 classes.\n"
     ]
    },
    {
     "name": "stderr",
     "output_type": "stream",
     "text": [
      "C:\\Users\\music\\anaconda3\\envs\\csc790\\lib\\site-packages\\keras_preprocessing\\image\\image_data_generator.py:356: UserWarning: This ImageDataGenerator specifies `samplewise_std_normalization`, which overrides setting of `samplewise_center`.\n",
      "  warnings.warn('This ImageDataGenerator specifies '\n",
      "C:\\Users\\music\\anaconda3\\envs\\csc790\\lib\\site-packages\\keras_preprocessing\\image\\image_data_generator.py:356: UserWarning: This ImageDataGenerator specifies `samplewise_std_normalization`, which overrides setting of `samplewise_center`.\n",
      "  warnings.warn('This ImageDataGenerator specifies '\n"
     ]
    },
    {
     "name": "stdout",
     "output_type": "stream",
     "text": [
      "Found 12633 non-validated image filenames belonging to 2 classes.\n",
      "Found 11370 non-validated image filenames belonging to 2 classes.\n",
      "\n",
      "Found 102315 non-validated image filenames belonging to 2 classes.\n"
     ]
    },
    {
     "name": "stderr",
     "output_type": "stream",
     "text": [
      "C:\\Users\\music\\anaconda3\\envs\\csc790\\lib\\site-packages\\keras_preprocessing\\image\\image_data_generator.py:356: UserWarning: This ImageDataGenerator specifies `samplewise_std_normalization`, which overrides setting of `samplewise_center`.\n",
      "  warnings.warn('This ImageDataGenerator specifies '\n",
      "C:\\Users\\music\\anaconda3\\envs\\csc790\\lib\\site-packages\\keras_preprocessing\\image\\image_data_generator.py:356: UserWarning: This ImageDataGenerator specifies `samplewise_std_normalization`, which overrides setting of `samplewise_center`.\n",
      "  warnings.warn('This ImageDataGenerator specifies '\n"
     ]
    },
    {
     "name": "stdout",
     "output_type": "stream",
     "text": [
      "Found 12633 non-validated image filenames belonging to 2 classes.\n",
      "Found 11370 non-validated image filenames belonging to 2 classes.\n",
      "\n",
      "Found 102315 non-validated image filenames belonging to 2 classes.\n"
     ]
    },
    {
     "name": "stderr",
     "output_type": "stream",
     "text": [
      "C:\\Users\\music\\anaconda3\\envs\\csc790\\lib\\site-packages\\keras_preprocessing\\image\\image_data_generator.py:356: UserWarning: This ImageDataGenerator specifies `samplewise_std_normalization`, which overrides setting of `samplewise_center`.\n",
      "  warnings.warn('This ImageDataGenerator specifies '\n",
      "C:\\Users\\music\\anaconda3\\envs\\csc790\\lib\\site-packages\\keras_preprocessing\\image\\image_data_generator.py:356: UserWarning: This ImageDataGenerator specifies `samplewise_std_normalization`, which overrides setting of `samplewise_center`.\n",
      "  warnings.warn('This ImageDataGenerator specifies '\n"
     ]
    },
    {
     "name": "stdout",
     "output_type": "stream",
     "text": [
      "Found 12633 non-validated image filenames belonging to 2 classes.\n",
      "Found 11370 non-validated image filenames belonging to 2 classes.\n",
      "\n",
      "Found 102315 non-validated image filenames belonging to 2 classes.\n"
     ]
    },
    {
     "name": "stderr",
     "output_type": "stream",
     "text": [
      "C:\\Users\\music\\anaconda3\\envs\\csc790\\lib\\site-packages\\keras_preprocessing\\image\\image_data_generator.py:356: UserWarning: This ImageDataGenerator specifies `samplewise_std_normalization`, which overrides setting of `samplewise_center`.\n",
      "  warnings.warn('This ImageDataGenerator specifies '\n",
      "C:\\Users\\music\\anaconda3\\envs\\csc790\\lib\\site-packages\\keras_preprocessing\\image\\image_data_generator.py:356: UserWarning: This ImageDataGenerator specifies `samplewise_std_normalization`, which overrides setting of `samplewise_center`.\n",
      "  warnings.warn('This ImageDataGenerator specifies '\n"
     ]
    },
    {
     "name": "stdout",
     "output_type": "stream",
     "text": [
      "Found 12633 non-validated image filenames belonging to 2 classes.\n",
      "Found 11370 non-validated image filenames belonging to 2 classes.\n",
      "\n",
      "Found 102315 non-validated image filenames belonging to 2 classes.\n"
     ]
    },
    {
     "name": "stderr",
     "output_type": "stream",
     "text": [
      "C:\\Users\\music\\anaconda3\\envs\\csc790\\lib\\site-packages\\keras_preprocessing\\image\\image_data_generator.py:356: UserWarning: This ImageDataGenerator specifies `samplewise_std_normalization`, which overrides setting of `samplewise_center`.\n",
      "  warnings.warn('This ImageDataGenerator specifies '\n",
      "C:\\Users\\music\\anaconda3\\envs\\csc790\\lib\\site-packages\\keras_preprocessing\\image\\image_data_generator.py:356: UserWarning: This ImageDataGenerator specifies `samplewise_std_normalization`, which overrides setting of `samplewise_center`.\n",
      "  warnings.warn('This ImageDataGenerator specifies '\n"
     ]
    },
    {
     "name": "stdout",
     "output_type": "stream",
     "text": [
      "Found 12633 non-validated image filenames belonging to 2 classes.\n",
      "Found 11370 non-validated image filenames belonging to 2 classes.\n",
      "\n",
      "Found 102315 non-validated image filenames belonging to 2 classes.\n"
     ]
    },
    {
     "name": "stderr",
     "output_type": "stream",
     "text": [
      "C:\\Users\\music\\anaconda3\\envs\\csc790\\lib\\site-packages\\keras_preprocessing\\image\\image_data_generator.py:356: UserWarning: This ImageDataGenerator specifies `samplewise_std_normalization`, which overrides setting of `samplewise_center`.\n",
      "  warnings.warn('This ImageDataGenerator specifies '\n",
      "C:\\Users\\music\\anaconda3\\envs\\csc790\\lib\\site-packages\\keras_preprocessing\\image\\image_data_generator.py:356: UserWarning: This ImageDataGenerator specifies `samplewise_std_normalization`, which overrides setting of `samplewise_center`.\n",
      "  warnings.warn('This ImageDataGenerator specifies '\n"
     ]
    },
    {
     "name": "stdout",
     "output_type": "stream",
     "text": [
      "Found 12633 non-validated image filenames belonging to 2 classes.\n",
      "Found 11370 non-validated image filenames belonging to 2 classes.\n",
      "\n",
      "Found 102315 non-validated image filenames belonging to 2 classes.\n",
      "Found 12633 non-validated image filenames belonging to 2 classes.\n",
      "Found 11370 non-validated image filenames belonging to 2 classes.\n",
      "\n"
     ]
    },
    {
     "name": "stderr",
     "output_type": "stream",
     "text": [
      "C:\\Users\\music\\anaconda3\\envs\\csc790\\lib\\site-packages\\keras_preprocessing\\image\\image_data_generator.py:356: UserWarning: This ImageDataGenerator specifies `samplewise_std_normalization`, which overrides setting of `samplewise_center`.\n",
      "  warnings.warn('This ImageDataGenerator specifies '\n"
     ]
    }
   ],
   "source": [
    "kFCV_sets, weights_dict = utils.makeFolds(dataset=dataset, n_folds=n_folds, batch_size=batch_size)"
   ]
  },
  {
   "cell_type": "code",
   "execution_count": 7,
   "metadata": {},
   "outputs": [
    {
     "name": "stdout",
     "output_type": "stream",
     "text": [
      "{0: 0.9585261658953365, 1: 1.045225155279503}\n"
     ]
    }
   ],
   "source": [
    "print(weights_dict)"
   ]
  },
  {
   "cell_type": "code",
   "execution_count": null,
   "metadata": {},
   "outputs": [
    {
     "name": "stdout",
     "output_type": "stream",
     "text": [
      "Fold 1 of 10\n",
      "Epoch 1/100\n",
      "800/800 [==============================] - 67s 84ms/step - loss: 0.5467 - accuracy: 0.9052 - val_loss: 0.5402 - val_accuracy: 0.9332\n",
      "Epoch 2/100\n",
      "318/800 [==========>...................] - ETA: 28s - loss: 0.5345 - accuracy: 0.9315- ETA: 30s - loss: 0"
     ]
    }
   ],
   "source": [
    "k_results=pd.DataFrame(columns = ['Fold', 'Loss', 'Accuracy'])\n",
    "\n",
    "for i, k in enumerate(kFCV_sets):\n",
    "    print(\"Fold\", i+1, \"of\", len(kFCV_sets))\n",
    "\n",
    "    train_generator, test_generator, val_generator = k\n",
    "\n",
    "    #Build Model\n",
    "    model = utils.makeModel(inputShape=(150, 150, 3), modelName=modelName)\n",
    "    opt = tf.optimizers.Adam()\n",
    "    model.compile(\n",
    "        optimizer = opt,\n",
    "        loss = keras.losses.BinaryCrossentropy(from_logits = True),\n",
    "        metrics = [\"accuracy\"]\n",
    "    )\n",
    "\n",
    "    #Fit data  \n",
    "    model.fit(\n",
    "        train_generator,\n",
    "        validation_data=val_generator,\n",
    "        callbacks = utils.callbacks,\n",
    "        epochs = 100,\n",
    "        class_weight = weights_dict,\n",
    "        max_queue_size = 10,\n",
    "        workers = os.cpu_count(),\n",
    "    )\n",
    "\n",
    "    #Test accuracy\n",
    "    results = model.evaluate(\n",
    "        test_generator,\n",
    "        max_queue_size = 10,\n",
    "        workers = os.cpu_count(),\n",
    "    )\n",
    "\n",
    "    k_results = k_results.append({'Fold':i+1, 'Loss':results[0], 'Accuracy':results[1]}, ignore_index=True)\n",
    "    \n",
    "    if i == 0:\n",
    "        # Write the summary to a file\n",
    "        with open(f'Results/{modelName}Summary.txt', 'w') as f:\n",
    "            with redirect_stdout(f):\n",
    "                print(model.summary())\n",
    "        #Save the model\n",
    "        model.save(f'Models/{modelName}')\n",
    "        \n",
    "    keras.backend.clear_session() \n",
    "\n",
    "k_results = k_results.append({'Fold':\"Avg\", 'Loss':np.average(k_results['Loss']), 'Accuracy':np.average(k_results['Accuracy'])}, ignore_index=True)"
   ]
  },
  {
   "cell_type": "code",
   "execution_count": null,
   "metadata": {},
   "outputs": [],
   "source": [
    "if n_folds != 1:\n",
    "    k_results.to_csv(f'Results/k-fcv_{modelName}.csv')"
   ]
  }
 ],
 "metadata": {
  "kernelspec": {
   "display_name": "csc790",
   "language": "python",
   "name": "csc790"
  },
  "language_info": {
   "codemirror_mode": {
    "name": "ipython",
    "version": 3
   },
   "file_extension": ".py",
   "mimetype": "text/x-python",
   "name": "python",
   "nbconvert_exporter": "python",
   "pygments_lexer": "ipython3",
   "version": "3.8.5"
  }
 },
 "nbformat": 4,
 "nbformat_minor": 4
}
